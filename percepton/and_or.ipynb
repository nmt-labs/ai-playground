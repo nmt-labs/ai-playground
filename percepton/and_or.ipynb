{
 "cells": [
  {
   "cell_type": "markdown",
   "metadata": {},
   "source": [
    "### Percepton"
   ]
  },
  {
   "cell_type": "code",
   "execution_count": 1,
   "metadata": {},
   "outputs": [],
   "source": [
    "import numpy as np\n"
   ]
  },
  {
   "cell_type": "markdown",
   "metadata": {},
   "source": [
    "Função de ativação"
   ]
  },
  {
   "cell_type": "code",
   "execution_count": 2,
   "metadata": {},
   "outputs": [],
   "source": [
    "def step_function(x):\n",
    "    return np.where(x >= 0, 1, 0)\n"
   ]
  },
  {
   "cell_type": "markdown",
   "metadata": {},
   "source": [
    "Função de treinamento"
   ]
  },
  {
   "cell_type": "code",
   "execution_count": 3,
   "metadata": {},
   "outputs": [],
   "source": [
    "def train(X, y, epochs=100, lr=0.1):\n",
    "    # Adicione uma coluna de 1s para o bias\n",
    "    X = np.hstack((np.ones((X.shape[0], 1)), X))\n",
    "    # Inicialize os pesos aleatoriamente\n",
    "    w = np.random.randn(X.shape[1])\n",
    "    # Loop de treinamento\n",
    "    for epoch in range(epochs):\n",
    "        # Loop sobre cada amostra de treinamento\n",
    "        for i in range(X.shape[0]):\n",
    "            # Calcule a saída da rede\n",
    "            y_hat = step_function(np.dot(X[i], w))\n",
    "            # Atualize os pesos\n",
    "            w += lr * (y[i] - y_hat) * X[i]\n",
    "    return w\n"
   ]
  },
  {
   "cell_type": "markdown",
   "metadata": {},
   "source": [
    "Função de teste"
   ]
  },
  {
   "cell_type": "code",
   "execution_count": 4,
   "metadata": {},
   "outputs": [],
   "source": [
    "def test(X, y, w):\n",
    "    # Adicione uma coluna de 1s para o bias\n",
    "    X = np.hstack((np.ones((X.shape[0], 1)), X))\n",
    "    # Calcule a saída da rede\n",
    "    y_hat = step_function(np.dot(X, w))\n",
    "    # Calcule a acurácia\n",
    "    accuracy = np.mean(y == y_hat)\n",
    "    return accuracy\n"
   ]
  },
  {
   "cell_type": "markdown",
   "metadata": {},
   "source": [
    "Conjunto de treino e teste"
   ]
  },
  {
   "cell_type": "code",
   "execution_count": 5,
   "metadata": {},
   "outputs": [],
   "source": [
    "# Problema AND com 2 entradas\n",
    "X_train = np.array([[0, 0], [0, 1], [1, 0], [1, 1]])\n",
    "y_train = np.array([0, 0, 0, 1])\n",
    "X_test = np.array([[0, 0], [0, 1], [1, 0], [1, 1]])\n",
    "y_test = np.array([0, 0, 0, 1])\n"
   ]
  },
  {
   "cell_type": "markdown",
   "metadata": {},
   "source": [
    "Treino e teste"
   ]
  },
  {
   "cell_type": "code",
   "execution_count": 6,
   "metadata": {},
   "outputs": [
    {
     "name": "stdout",
     "output_type": "stream",
     "text": [
      "Acurácia: 100.00%\n"
     ]
    }
   ],
   "source": [
    "# treino\n",
    "w = train(X_train, y_train)\n",
    "# teste\n",
    "accuracy = test(X_test, y_test, w)\n",
    "print(\"Acurácia: {:.2f}%\".format(accuracy * 100))\n"
   ]
  }
 ],
 "metadata": {
  "kernelspec": {
   "display_name": "Python 3",
   "language": "python",
   "name": "python3"
  },
  "language_info": {
   "codemirror_mode": {
    "name": "ipython",
    "version": 3
   },
   "file_extension": ".py",
   "mimetype": "text/x-python",
   "name": "python",
   "nbconvert_exporter": "python",
   "pygments_lexer": "ipython3",
   "version": "3.11.6"
  }
 },
 "nbformat": 4,
 "nbformat_minor": 2
}
