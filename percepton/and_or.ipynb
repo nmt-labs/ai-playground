{
 "cells": [
  {
   "cell_type": "markdown",
   "metadata": {},
   "source": [
    "### Percepton"
   ]
  },
  {
   "cell_type": "code",
   "execution_count": 37,
   "metadata": {},
   "outputs": [],
   "source": [
    "import random"
   ]
  },
  {
   "cell_type": "code",
   "execution_count": 38,
   "metadata": {},
   "outputs": [],
   "source": [
    "class Perceptron:\n",
    "    def __init__(self, n):\n",
    "        self.weights = [random.uniform(-1, 1) for _ in range(n)]\n",
    "        self.bias = random.uniform(-1, 1)\n",
    "\n",
    "    def predict(self, inputs):\n",
    "        weighted_sum = sum(w * x for w, x in zip(self.weights, inputs)) + self.bias\n",
    "        return 1 if weighted_sum >= 0 else 0\n",
    "\n",
    "    def train(self, training_data, epochs, learning_rate):\n",
    "        for _ in range(epochs):\n",
    "            for inputs, target in training_data:\n",
    "                prediction = self.predict(inputs)\n",
    "                error = target - prediction\n",
    "                for i in range(len(self.weights)):\n",
    "                    self.weights[i] += learning_rate * error * inputs[i]\n",
    "                self.bias += learning_rate * error"
   ]
  },
  {
   "cell_type": "markdown",
   "metadata": {},
   "source": [
    "Train function"
   ]
  },
  {
   "cell_type": "code",
   "execution_count": 39,
   "metadata": {},
   "outputs": [],
   "source": [
    "def train(gate, n):\n",
    "    if gate == \"AND\":\n",
    "        training_data = [(inputs, int(all(inputs))) for inputs in (zip(*[[0, 1] for _ in range(n)]))]\n",
    "    elif gate == \"OR\":\n",
    "        training_data = [(inputs, int(any(inputs))) for inputs in (zip(*[[0, 1] for _ in range(n)]))]\n",
    "\n",
    "    perceptron = Perceptron(n)\n",
    "    perceptron.train(training_data, epochs=1000, learning_rate=0.1)\n",
    "\n",
    "    return perceptron"
   ]
  },
  {
   "cell_type": "markdown",
   "metadata": {},
   "source": [
    "Test function"
   ]
  },
  {
   "cell_type": "code",
   "execution_count": 40,
   "metadata": {},
   "outputs": [],
   "source": [
    "def test(perceptron, n):\n",
    "    test_data = [(inputs, int(all(inputs))) for inputs in (zip(*[[0, 1] for _ in range(n)]))]\n",
    "    for inputs, target in test_data:\n",
    "        prediction = perceptron.predict(inputs)\n",
    "        print(f\"Input: {inputs} => Output: {prediction} (Expected: {target})\")"
   ]
  },
  {
   "cell_type": "markdown",
   "metadata": {},
   "source": [
    "Run train and test"
   ]
  },
  {
   "cell_type": "code",
   "execution_count": 41,
   "metadata": {},
   "outputs": [
    {
     "name": "stdout",
     "output_type": "stream",
     "text": [
      "Perceptron to OR with 4 inputs: \n",
      "Input: (0, 0, 0, 0) => Output: 0 (Expected: 0)\n",
      "Input: (1, 1, 1, 1) => Output: 1 (Expected: 1)\n"
     ]
    }
   ],
   "source": [
    "n = int(input(\"Insert number of inputs\"))\n",
    "gate = input(\"Type \\\"AND\\\" or \\\"OR\\\"\")\n",
    "perceptron = train(gate, n)\n",
    "print(f\"Perceptron to {gate} with {n} inputs: \")\n",
    "test(perceptron, n)"
   ]
  },
  {
   "cell_type": "markdown",
   "metadata": {},
   "source": [
    "Xor test"
   ]
  },
  {
   "cell_type": "code",
   "execution_count": 42,
   "metadata": {},
   "outputs": [
    {
     "name": "stdout",
     "output_type": "stream",
     "text": [
      "Perceptron to XOR:\n",
      "Input: (0, 0) => Output: 0 (Expected: 0)\n",
      "Input: (0, 1) => Output: 1 (Expected: 1)\n",
      "Input: (1, 0) => Output: 1 (Expected: 1)\n",
      "Input: (1, 1) => Output: 1 (Expected: 0)\n"
     ]
    }
   ],
   "source": [
    "xor_test_data = [(inputs, int(inputs[0] ^ inputs[1])) for inputs in [(0, 0), (0, 1), (1, 0), (1, 1)]]\n",
    "and_perceptron = train(\"AND\", 4)\n",
    "print(\"Perceptron to XOR:\")\n",
    "for inputs, target in xor_test_data:\n",
    "    prediction = and_perceptron.predict(inputs)\n",
    "    print(f\"Input: {inputs} => Output: {prediction} (Expected: {target})\")"
   ]
  }
 ],
 "metadata": {
  "kernelspec": {
   "display_name": "Python 3",
   "language": "python",
   "name": "python3"
  },
  "language_info": {
   "codemirror_mode": {
    "name": "ipython",
    "version": 3
   },
   "file_extension": ".py",
   "mimetype": "text/x-python",
   "name": "python",
   "nbconvert_exporter": "python",
   "pygments_lexer": "ipython3",
   "version": "3.11.6"
  }
 },
 "nbformat": 4,
 "nbformat_minor": 2
}
