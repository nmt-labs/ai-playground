{
 "cells": [
  {
   "cell_type": "markdown",
   "metadata": {},
   "source": [
    "# Backpropagation"
   ]
  },
  {
   "cell_type": "markdown",
   "metadata": {},
   "source": [
    "### Import libraries"
   ]
  },
  {
   "cell_type": "code",
   "execution_count": 240,
   "metadata": {},
   "outputs": [],
   "source": [
    "import math\n",
    "import random\n",
    "import numpy as np"
   ]
  },
  {
   "cell_type": "markdown",
   "metadata": {},
   "source": [
    "### Utility functions"
   ]
  },
  {
   "cell_type": "markdown",
   "metadata": {},
   "source": [
    "Calculate a random number rand which $a \\leq rand < b$"
   ]
  },
  {
   "cell_type": "code",
   "execution_count": 241,
   "metadata": {},
   "outputs": [],
   "source": [
    "random.seed(0)\n",
    "def rand(a, b):\n",
    "    return (b-a)*random.random() + a"
   ]
  },
  {
   "cell_type": "markdown",
   "metadata": {},
   "source": [
    "Make a matrix"
   ]
  },
  {
   "cell_type": "code",
   "execution_count": 242,
   "metadata": {},
   "outputs": [],
   "source": [
    "def make_matrix(I, J, fill=0.0):\n",
    "    return np.full((I, J), fill)"
   ]
  },
  {
   "cell_type": "markdown",
   "metadata": {},
   "source": [
    "Sigmoid"
   ]
  },
  {
   "cell_type": "code",
   "execution_count": 243,
   "metadata": {},
   "outputs": [],
   "source": [
    "def sigmoid(x):\n",
    "    return 1 / (1 + np.exp(-x))\n",
    "    # return math.tanh(x)"
   ]
  },
  {
   "cell_type": "markdown",
   "metadata": {},
   "source": [
    "Sigmoid derivative"
   ]
  },
  {
   "cell_type": "code",
   "execution_count": 244,
   "metadata": {},
   "outputs": [],
   "source": [
    "def derivative_sigmoid(y):\n",
    "    return y * (1 - y)\n",
    "    # return 1.0 - y**2"
   ]
  },
  {
   "cell_type": "markdown",
   "metadata": {},
   "source": [
    "#### Network class"
   ]
  },
  {
   "cell_type": "code",
   "execution_count": 245,
   "metadata": {},
   "outputs": [],
   "source": [
    "class Network:\n",
    "    def __init__(self, input_size, hidden_size, output_size):\n",
    "        self.input_size = input_size + 1 # +1 for bias node\n",
    "        self.hidden_size = hidden_size\n",
    "        self.output_size = output_size\n",
    "\n",
    "        # activations for nodes\n",
    "        self.input_activation = [1.0] * self.input_size\n",
    "        self.hidden_activation = [1.0] * self.hidden_size\n",
    "        self.output_activation = [1.0] * self.output_size\n",
    "\n",
    "        # create matrix of weights\n",
    "        self.input_weight = make_matrix(self.input_size, self.hidden_size)\n",
    "        self.output_weight = make_matrix(self.hidden_size, self.output_size)\n",
    "        # instantiates the matrix with random values\n",
    "        for i in range(self.input_size):\n",
    "            for j in range(self.hidden_size):\n",
    "                self.input_weight[i][j] = rand(-0.2, 0.2)\n",
    "        for j in range(self.hidden_size):\n",
    "            for k in range(self.output_size):\n",
    "                self.output_weight[j][k] = rand(-2.0, 2.0)\n",
    "\n",
    "        # last change in weights for momentum\n",
    "        self.input_change = make_matrix(self.input_size, self.hidden_size)\n",
    "        self.output_change = make_matrix(self.hidden_size, self.output_size)\n",
    "\n",
    "    def update(self, inputs):\n",
    "        if len(inputs) != self.input_size - 1:\n",
    "            raise ValueError('Inputs out of bounds')\n",
    "\n",
    "        # input activations\n",
    "        for i in range(self.input_size - 1):\n",
    "            self.input_activation[i] = inputs[i]\n",
    "\n",
    "        # hidden activations\n",
    "        for j in range(self.hidden_size):\n",
    "            sum = 0.0\n",
    "            for i in range(self.input_size):\n",
    "                sum = sum + self.input_activation[i] * self.input_weight[i][j]\n",
    "            self.hidden_activation[j] = sigmoid(sum)\n",
    "\n",
    "        # output activations\n",
    "        for k in range(self.output_size):\n",
    "            sum = 0.0\n",
    "            for j in range(self.hidden_size):\n",
    "                sum = sum + self.hidden_activation[j] * self.output_weight[j][k]\n",
    "            self.output_activation[k] = sigmoid(sum)\n",
    "\n",
    "        return self.output_activation[:]\n",
    "\n",
    "\n",
    "    def backpropagation(self, targets, N, M):\n",
    "        if len(targets) != self.output_size:\n",
    "            raise ValueError('Targets out of bounds')\n",
    "\n",
    "        # calculate error terms for output\n",
    "        output_deltas = [0.0] * self.output_size\n",
    "        for k in range(self.output_size):\n",
    "            error = targets[k] - self.output_activation[k]\n",
    "            output_deltas[k] = derivative_sigmoid(self.output_activation[k]) * error\n",
    "\n",
    "        # calculate error terms for hidden\n",
    "        hidden_deltas = [0.0] * self.hidden_size\n",
    "        for j in range(self.hidden_size):\n",
    "            error = 0.0\n",
    "            for k in range(self.output_size):\n",
    "                error = error + output_deltas[k] * self.output_weight[j][k]\n",
    "            hidden_deltas[j] = derivative_sigmoid(self.hidden_activation[j]) * error\n",
    "\n",
    "        # update output weights\n",
    "        for j in range(self.hidden_size):\n",
    "            for k in range(self.output_size):\n",
    "                change = output_deltas[k] * self.hidden_activation[j]\n",
    "                self.output_weight[j][k] = self.output_weight[j][k] + N * change + M * self.output_change[j][k]\n",
    "                self.output_change[j][k] = change\n",
    "\n",
    "        # update input weights\n",
    "        for i in range(self.input_size):\n",
    "            for j in range(self.hidden_size):\n",
    "                change = hidden_deltas[j]*self.input_activation[i]\n",
    "                self.input_weight[i][j] = self.input_weight[i][j] + N * change + M * self.input_change[i][j]\n",
    "                self.input_change[i][j] = change\n",
    "\n",
    "        # calculate error\n",
    "        error = 0.0\n",
    "        for k in range(len(targets)):\n",
    "            error = error + 0.5*(targets[k] - self.output_activation[k])**2\n",
    "        return error\n",
    "\n",
    "    def test(self, patterns):\n",
    "        for p in patterns:\n",
    "            print(p[0], '->', self.update(p[0]))\n",
    "\n",
    "    def weights(self):\n",
    "        print('Input weights:')\n",
    "        for i in range(self.input_size):\n",
    "            print(self.input_weight[i])\n",
    "        print()\n",
    "        print('Output weights:')\n",
    "        for j in range(self.hidden_size):\n",
    "            print(self.output_weight[j])\n",
    "\n",
    "    def train(self, patterns, iterations=10000, N=0.5, M=0.1):\n",
    "        # N: learning rate\n",
    "        # M: momentum factor\n",
    "        for i in range(iterations):\n",
    "            error = 0.0\n",
    "            for p in patterns:\n",
    "                inputs = p[0]\n",
    "                targets = p[1]\n",
    "                self.update(inputs)\n",
    "                error = error + self.backpropagation(targets, N, M)\n",
    "            if i % 100 == 0:\n",
    "                print('error %-.5f' % error)"
   ]
  },
  {
   "cell_type": "markdown",
   "metadata": {},
   "source": [
    "#### Create dataset for testing"
   ]
  },
  {
   "cell_type": "markdown",
   "metadata": {},
   "source": [
    "Dataset for AND function"
   ]
  },
  {
   "cell_type": "code",
   "execution_count": 246,
   "metadata": {},
   "outputs": [],
   "source": [
    "ds_and = [\n",
    "    [[0,0], [0]],\n",
    "    [[0,1], [0]],\n",
    "    [[1,0], [0]],\n",
    "    [[1,1], [1]]\n",
    "]"
   ]
  },
  {
   "cell_type": "markdown",
   "metadata": {},
   "source": [
    "Dataset for OR function"
   ]
  },
  {
   "cell_type": "code",
   "execution_count": 247,
   "metadata": {},
   "outputs": [],
   "source": [
    "ds_or = [\n",
    "    [[0,0], [0]],\n",
    "    [[0,1], [1]],\n",
    "    [[1,0], [1]],\n",
    "    [[1,1], [1]]\n",
    "]"
   ]
  },
  {
   "cell_type": "markdown",
   "metadata": {},
   "source": [
    "Dataset for XOR function"
   ]
  },
  {
   "cell_type": "code",
   "execution_count": 248,
   "metadata": {},
   "outputs": [],
   "source": [
    "ds_xor = [\n",
    "    [[0,0], [0]],\n",
    "    [[0,1], [1]],\n",
    "    [[1,0], [1]],\n",
    "    [[1,1], [0]]\n",
    "]"
   ]
  },
  {
   "cell_type": "markdown",
   "metadata": {},
   "source": [
    "### Run train and test"
   ]
  },
  {
   "cell_type": "code",
   "execution_count": 249,
   "metadata": {},
   "outputs": [],
   "source": [
    "n = int(input(\"Insert number of inputs (>= 2)\"))\n",
    "inputs = np.array([])\n",
    "for _ in range(n):\n",
    "  value = int(input(\"Insert 0 or 1\"))\n",
    "  inputs = np.append(inputs, value)\n",
    "  \n",
    "gate = input(\"Type \\\"AND\\\", \\\"OR\\\" or \\\"XOR\\\"\")\n",
    "\n",
    "if gate == \"AND\":\n",
    "  ds = ds_and\n",
    "elif gate == \"OR\":\n",
    "  ds = ds_or\n",
    "elif gate == \"XOR\":\n",
    "  ds = ds_xor\n",
    "else:\n",
    "  print(\"Invalid option\")"
   ]
  },
  {
   "cell_type": "code",
   "execution_count": 250,
   "metadata": {},
   "outputs": [
    {
     "name": "stdout",
     "output_type": "stream",
     "text": [
      "error 0.55099\n",
      "error 0.19106\n",
      "error 0.05764\n",
      "error 0.02400\n",
      "error 0.01356\n",
      "error 0.00903\n",
      "error 0.00661\n",
      "error 0.00514\n",
      "error 0.00416\n",
      "error 0.00348\n",
      "error 0.00297\n",
      "error 0.00259\n",
      "error 0.00229\n",
      "error 0.00204\n",
      "error 0.00184\n",
      "error 0.00168\n",
      "error 0.00153\n",
      "error 0.00141\n",
      "error 0.00131\n",
      "error 0.00122\n",
      "error 0.00114\n",
      "error 0.00107\n",
      "error 0.00101\n",
      "error 0.00095\n",
      "error 0.00090\n",
      "error 0.00085\n",
      "error 0.00081\n",
      "error 0.00077\n",
      "error 0.00074\n",
      "error 0.00071\n",
      "error 0.00068\n",
      "error 0.00065\n",
      "error 0.00063\n",
      "error 0.00060\n",
      "error 0.00058\n",
      "error 0.00056\n",
      "error 0.00054\n",
      "error 0.00052\n",
      "error 0.00051\n",
      "error 0.00049\n",
      "error 0.00048\n",
      "error 0.00046\n",
      "error 0.00045\n",
      "error 0.00044\n",
      "error 0.00042\n",
      "error 0.00041\n",
      "error 0.00040\n",
      "error 0.00039\n",
      "error 0.00038\n",
      "error 0.00037\n",
      "error 0.00036\n",
      "error 0.00035\n",
      "error 0.00035\n",
      "error 0.00034\n",
      "error 0.00033\n",
      "error 0.00032\n",
      "error 0.00032\n",
      "error 0.00031\n",
      "error 0.00030\n",
      "error 0.00030\n",
      "error 0.00029\n",
      "error 0.00029\n",
      "error 0.00028\n",
      "error 0.00028\n",
      "error 0.00027\n",
      "error 0.00027\n",
      "error 0.00026\n",
      "error 0.00026\n",
      "error 0.00025\n",
      "error 0.00025\n",
      "error 0.00024\n",
      "error 0.00024\n",
      "error 0.00024\n",
      "error 0.00023\n",
      "error 0.00023\n",
      "error 0.00022\n",
      "error 0.00022\n",
      "error 0.00022\n",
      "error 0.00021\n",
      "error 0.00021\n",
      "error 0.00021\n",
      "error 0.00021\n",
      "error 0.00020\n",
      "error 0.00020\n",
      "error 0.00020\n",
      "error 0.00019\n",
      "error 0.00019\n",
      "error 0.00019\n",
      "error 0.00019\n",
      "error 0.00018\n",
      "error 0.00018\n",
      "error 0.00018\n",
      "error 0.00018\n",
      "error 0.00017\n",
      "error 0.00017\n",
      "error 0.00017\n",
      "error 0.00017\n",
      "error 0.00017\n",
      "error 0.00016\n",
      "error 0.00016\n",
      "[0, 0] -> [0.00024539170051065276]\n",
      "[0, 1] -> [0.008171341755658009]\n",
      "[1, 0] -> [0.008306486817015193]\n",
      "[1, 1] -> [0.9863640546371948]\n"
     ]
    }
   ],
   "source": [
    "# create a network with two input, two hidden, and one output nodes\n",
    "nw = Network(2, 2, 1)\n",
    "\n",
    "nw.train(ds)\n",
    "nw.test(ds)"
   ]
  }
 ],
 "metadata": {
  "kernelspec": {
   "display_name": "Python 3",
   "language": "python",
   "name": "python3"
  },
  "language_info": {
   "codemirror_mode": {
    "name": "ipython",
    "version": 3
   },
   "file_extension": ".py",
   "mimetype": "text/x-python",
   "name": "python",
   "nbconvert_exporter": "python",
   "pygments_lexer": "ipython3",
   "version": "3.11.6"
  }
 },
 "nbformat": 4,
 "nbformat_minor": 2
}
